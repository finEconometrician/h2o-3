{
 "cells": [
  {
   "cell_type": "markdown",
   "metadata": {},
   "source": [
    "# TF-IDF demo"
   ]
  },
  {
   "cell_type": "code",
   "execution_count": null,
   "metadata": {},
   "outputs": [],
   "source": [
    "import h2o\n",
    "\n",
    "h2o.init()"
   ]
  },
  {
   "cell_type": "markdown",
   "metadata": {},
   "source": [
    "## Data"
   ]
  },
  {
   "cell_type": "markdown",
   "metadata": {},
   "source": [
    "Data sources:\n",
    "\n",
    "* https://github.com/h2oai/h2o-3\n",
    "* https://en.wikipedia.org/wiki/Ice_hockey\n",
    "* https://en.wikipedia.org/wiki/Antibody"
   ]
  },
  {
   "cell_type": "code",
   "execution_count": null,
   "metadata": {},
   "outputs": [],
   "source": [
    "documents = [\n",
    "    'H2O is an in-memory platform for distributed, scalable machine learning. H2O uses familiar interfaces like R, Python, Scala, Java, JSON and the Flow notebook/web interface, and works seamlessly with big data technologies like Hadoop and Spark.',\n",
    "    'Ice hockey is a contact team sport played on ice, usually in a rink, in which two teams of skaters use their sticks to shoot a vulcanized rubber puck into their opponent\\'s net to score goals. The sport is known to be fast-paced and physical.',\n",
    "    'An antibody (Ab), also known as an immunoglobulin (Ig), is a large, Y-shaped protein produced mainly by plasma cells that is used by the immune system to neutralize pathogens such as pathogenic bacteria and viruses.'\n",
    "]\n",
    "doc_ids = list(range(len(documents)))\n",
    "\n",
    "input_frame = h2o.H2OFrame({'DocID': doc_ids, 'Document': documents},\n",
    "                            column_types=['numeric', 'string'])\n",
    "input_frame.head()"
   ]
  },
  {
   "cell_type": "markdown",
   "metadata": {},
   "source": [
    "## TF-IDF with pre-processing"
   ]
  },
  {
   "cell_type": "code",
   "execution_count": null,
   "metadata": {},
   "outputs": [],
   "source": [
    "from h2o.information_retrieval.tf_idf import tf_idf\n",
    "\n",
    "tf_idf_out = tf_idf(input_frame)\n",
    "tf_idf_out.head()"
   ]
  },
  {
   "cell_type": "code",
   "execution_count": null,
   "metadata": {},
   "outputs": [],
   "source": [
    "VALUES_CNT_TO_SHOW = 3\n",
    "\n",
    "def tf_idf_output_summary(tf_idf_out):\n",
    "    for doc_id in doc_ids:\n",
    "        sorted_doc_tf_idfs = tf_idf_out[tf_idf_out['DocID'] == doc_id].sort(by='TF-IDF')\n",
    "        print('The highest TF-IDF values for document ' + doc_id +':')\n",
    "        display(sorted_doc_tf_idfs.tail(VALUES_CNT_TO_SHOW))\n",
    "        print('The lowest TF-IDF values for document ' + doc_id +':')\n",
    "        display(sorted_doc_tf_idfs.head(VALUES_CNT_TO_SHOW))\n",
    "        print('\\n')"
   ]
  },
  {
   "cell_type": "code",
   "execution_count": null,
   "metadata": {},
   "outputs": [],
   "source": [
    "tf_idf_output_summary(tf_idf_out)"
   ]
  },
  {
   "cell_type": "markdown",
   "metadata": {},
   "source": [
    "## TF-IDF without pre-processing"
   ]
  },
  {
   "cell_type": "code",
   "execution_count": null,
   "metadata": {},
   "outputs": [],
   "source": [
    "preprocessed_data = [(doc_id, word) for doc_id, document in enumerate(documents) for word in document.split()]\n",
    "\n",
    "preprocessed_input_frame = h2o.H2OFrame(preprocessed_data,\n",
    "                                        column_names=['DocID', 'Document'],\n",
    "                                        column_types=['numeric', 'string'])\n",
    "preprocessed_input_frame.head()"
   ]
  },
  {
   "cell_type": "code",
   "execution_count": null,
   "metadata": {},
   "outputs": [],
   "source": [
    "tf_idf_out = tf_idf(preprocessed_input_frame, preprocess=False)\n",
    "tf_idf_out.head()"
   ]
  },
  {
   "cell_type": "code",
   "execution_count": null,
   "metadata": {},
   "outputs": [],
   "source": [
    "tf_idf_output_summary(tf_idf_out)"
   ]
  },
  {
   "cell_type": "markdown",
   "metadata": {},
   "source": [
    "## Case insensitive TF-IDF"
   ]
  },
  {
   "cell_type": "code",
   "execution_count": null,
   "metadata": {},
   "outputs": [],
   "source": [
    "tf_idf_out = tf_idf(input_frame, case_sensitive=False)\n",
    "tf_idf_out.head()"
   ]
  },
  {
   "cell_type": "code",
   "execution_count": null,
   "metadata": {},
   "outputs": [],
   "source": [
    "tf_idf_output_summary(tf_idf_out)"
   ]
  }
 ],
 "metadata": {
  "kernelspec": {
   "display_name": "Python 3",
   "language": "python",
   "name": "python3"
  },
  "language_info": {
   "codemirror_mode": {
    "name": "ipython",
    "version": 3
   },
   "file_extension": ".py",
   "mimetype": "text/x-python",
   "name": "python",
   "nbconvert_exporter": "python",
   "pygments_lexer": "ipython3",
   "version": "3.7.3"
  }
 },
 "nbformat": 4,
 "nbformat_minor": 4
}
